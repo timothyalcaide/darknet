{
  "nbformat": 4,
  "nbformat_minor": 0,
  "metadata": {
    "colab": {
      "name": "yolo-darknet.ipynb",
      "provenance": [],
      "toc_visible": true,
      "authorship_tag": "ABX9TyOLNJX2oIpPatAX4t7XGiqj",
      "include_colab_link": true
    },
    "kernelspec": {
      "name": "python3",
      "display_name": "Python 3"
    },
    "accelerator": "GPU"
  },
  "cells": [
    {
      "cell_type": "markdown",
      "metadata": {
        "id": "view-in-github",
        "colab_type": "text"
      },
      "source": [
        "<a href=\"https://colab.research.google.com/github/timothyalcaide/darknet/blob/master/yolo_darknet.ipynb\" target=\"_parent\"><img src=\"https://colab.research.google.com/assets/colab-badge.svg\" alt=\"Open In Colab\"/></a>"
      ]
    },
    {
      "cell_type": "markdown",
      "metadata": {
        "id": "SFL33k4l8ZDE",
        "colab_type": "text"
      },
      "source": [
        "# Link Codlab, Drive and Github"
      ]
    },
    {
      "cell_type": "markdown",
      "metadata": {
        "id": "FSA-_X2F9wHz",
        "colab_type": "text"
      },
      "source": [
        "[source tuto](https://towardsdatascience.com/google-drive-google-colab-github-dont-just-read-do-it-5554d5824228)"
      ]
    },
    {
      "cell_type": "code",
      "metadata": {
        "id": "RCOMmH1St8WT",
        "colab_type": "code",
        "colab": {
          "base_uri": "https://localhost:8080/",
          "height": 71
        },
        "outputId": "1c775206-f17d-49e9-8b59-e41ff2f68e24"
      },
      "source": [
        "# Mount Google Drive\n",
        "%cd ..\n",
        "from google.colab import drive\n",
        "drive.mount('/content/gdrive')        "
      ],
      "execution_count": 29,
      "outputs": [
        {
          "output_type": "stream",
          "text": [
            "/content/gdrive/My Drive/IA\n",
            "Drive already mounted at /content/gdrive; to attempt to forcibly remount, call drive.mount(\"/content/gdrive\", force_remount=True).\n"
          ],
          "name": "stdout"
        }
      ]
    },
    {
      "cell_type": "code",
      "metadata": {
        "id": "HwRQ42iVw_Us",
        "colab_type": "code",
        "colab": {
          "base_uri": "https://localhost:8080/",
          "height": 68
        },
        "outputId": "96809b09-a4e6-4f8a-db88-75bdbf6a7586"
      },
      "source": [
        "# Clone github repository setup\n",
        "from os.path import join  \n",
        "\n",
        "ROOT = \"/content/gdrive\" \n",
        "MY_GOOGLE_DRIVE_PATH = 'My Drive/IA/' \n",
        "GIT_USERNAME = \"timothyalcaide\" \n",
        "GIT_TOKEN = \"7802dd553c96b9dfa6becd8141de1a14340e6629\"  \n",
        "GIT_REPOSITORY = \"darknet\" \n",
        "\n",
        "PROJECTS_PATH = join(ROOT, MY_GOOGLE_DRIVE_PATH)\n",
        "PROJECT_PATH = join(PROJECTS_PATH, GIT_REPOSITORY)\n",
        "\n",
        "# It's good to print out the value if you are not sure \n",
        "print(\"PROJECTS_PATH: \", PROJECTS_PATH)   \n",
        "print(\"PROJECT_PATH: \", PROJECT_PATH)   \n",
        "\n",
        "GIT_PATH = \"https://\" + GIT_TOKEN + \"@github.com/\" + GIT_USERNAME + \"/\" + GIT_REPOSITORY + \".git\"\n",
        "print(\"GIT_PATH: \", GIT_PATH)"
      ],
      "execution_count": 30,
      "outputs": [
        {
          "output_type": "stream",
          "text": [
            "PROJECTS_PATH:  /content/gdrive/My Drive/IA/\n",
            "PROJECT_PATH:  /content/gdrive/My Drive/IA/darknet\n",
            "GIT_PATH:  https://7802dd553c96b9dfa6becd8141de1a14340e6629@github.com/timothyalcaide/darknet.git\n"
          ],
          "name": "stdout"
        }
      ]
    },
    {
      "cell_type": "code",
      "metadata": {
        "id": "5JasN5Z64Uy1",
        "colab_type": "code",
        "colab": {
          "base_uri": "https://localhost:8080/",
          "height": 136
        },
        "outputId": "8e55635e-350d-4d3c-999c-6332d52a7ab3"
      },
      "source": [
        "%cd \"{PROJECTS_PATH}\" \n",
        "%rm -rf darknet\n",
        "!git clone \"{GIT_PATH}\""
      ],
      "execution_count": 33,
      "outputs": [
        {
          "output_type": "stream",
          "text": [
            "/content/gdrive/My Drive/IA\n",
            "Cloning into 'darknet'...\n",
            "remote: Enumerating objects: 14263, done.\u001b[K\n",
            "remote: Total 14263 (delta 0), reused 0 (delta 0), pack-reused 14263\u001b[K\n",
            "Receiving objects: 100% (14263/14263), 12.62 MiB | 5.32 MiB/s, done.\n",
            "Resolving deltas: 100% (9771/9771), done.\n",
            "Checking out files: 100% (2014/2014), done.\n"
          ],
          "name": "stdout"
        }
      ]
    },
    {
      "cell_type": "code",
      "metadata": {
        "id": "c2M_rTXa82o4",
        "colab_type": "code",
        "colab": {}
      },
      "source": [
        "!git config --global user.email \"timothy.alcaide@gmail.com\"\n",
        "!git config --global user.name \"Timothy Alcaide\""
      ],
      "execution_count": null,
      "outputs": []
    },
    {
      "cell_type": "code",
      "metadata": {
        "id": "b2lgcT3S9bs5",
        "colab_type": "code",
        "colab": {}
      },
      "source": [
        "%cd \"{PROJECTS_PATH}\" \n",
        "!git add .\n",
        "!git commit -m \"add codelab, drive, github config\"\n",
        "!git push "
      ],
      "execution_count": null,
      "outputs": []
    },
    {
      "cell_type": "code",
      "metadata": {
        "id": "I3IwmA5M-Yvq",
        "colab_type": "code",
        "colab": {}
      },
      "source": [
        "# Mettre à jour le repo drive par rapport au *distant*\n",
        "!git pull --rebase "
      ],
      "execution_count": null,
      "outputs": []
    }
  ]
}